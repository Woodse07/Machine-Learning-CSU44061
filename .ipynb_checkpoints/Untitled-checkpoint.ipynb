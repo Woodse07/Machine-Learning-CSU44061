{
 "cells": [
  {
   "cell_type": "code",
   "execution_count": 1,
   "metadata": {},
   "outputs": [],
   "source": [
    "import numpy as np\n",
    "import pandas as pd\n",
    "import matplotlib.pyplot as plt\n",
    "from sklearn import preprocessing\n",
    "from sklearn.model_selection import train_test_split\n",
    "from sklearn import linear_model\n",
    "import csv\n",
    "from sklearn.ensemble import RandomForestRegressor"
   ]
  },
  {
   "cell_type": "code",
   "execution_count": 2,
   "metadata": {},
   "outputs": [],
   "source": [
    "def simplify_ages(df):\n",
    "\tdf.Age = df.Age.fillna(-0.5)\n",
    "\tbins = (0,15,25,36,50,120)\n",
    "\tgroup_names = ['0-15', '15-25', '25-36', '36-50', '50-120']\n",
    "\tdf.Age = pd.cut(df.Age, bins, labels=group_names)\n",
    "\treturn df\n",
    "\n",
    "def simplify_city_size(df):\n",
    "\tdf['Size of City'] = df['Size of City'].fillna(-0.5)\n",
    "\tbins = (-1,0,72734,286000,506092,750000,1184501,25000000,50000000)\n",
    "\tgroup_names = ['Unknown', '1_quartile', '1b_quartile', '2_quartile', '2_quartileb', '3_quartile', '3_quartileb', '4_quartile']\n",
    "\tdf['Size of City'] = pd.cut(df['Size of City'], bins, labels=group_names)\n",
    "\treturn df\n",
    "\n",
    "def simplify_yor(df):\n",
    "\tdf['Year of Record'] = df['Year of Record'].fillna(-0.5)\n",
    "\tbins = (-1,1979,1990,2000,2010,2020)\n",
    "\tgroup_names = ['unknown', '1980s', '1990s', '2000s', '2010s']\n",
    "\tdf['Year of Record'] = pd.cut(df['Year of Record'], bins, labels=group_names)\n",
    "\treturn df\n",
    "\n",
    "def simplify_height(df):\n",
    "\tdf['Body Height [cm]'] = df['Body Height [cm]'].fillna(-0.5)\n",
    "\tbins = (-1, 90, 160, 175, 191, 270)\n",
    "\tgroup_names = ['Unknown', '90-160', '160-175', '175-191', '191-270']\n",
    "\tdf['Body Height [cm]'] = pd.cut(df['Body Height [cm]'], bins, labels=group_names)\n",
    "\treturn df\n",
    "\n",
    "def drop_features(df):\n",
    "\tdf = df.drop('Hair Color', axis=1)\n",
    "\tdf = df.drop('Wears Glasses', axis=1)\n",
    "\tdf = df.drop('Instance', axis=1)\n",
    "\t#df = df.drop('University Degree', axis=1)\n",
    "\t#df = df.drop('Gender', axis=1)\n",
    "\t#df = df.drop('Profession', axis=1)\n",
    "\treturn df\n",
    "\n",
    "def encode_features(df):\n",
    "\tfeatures = ['University Degree', 'Age', 'Country', 'Size of City', 'Body Height [cm]', 'Year of Record', 'Gender', 'Profession']\n",
    "\tfor feature in features:\n",
    "\t\tle = preprocessing.LabelEncoder()\n",
    "\t\tdf[feature] = le.fit_transform(df[feature].astype(str))\n",
    "\treturn df\n"
   ]
  },
  {
   "cell_type": "code",
   "execution_count": 3,
   "metadata": {},
   "outputs": [],
   "source": [
    "train_data = pd.read_csv('tcd ml 2019-20 income prediction training (with labels).csv')"
   ]
  },
  {
   "cell_type": "code",
   "execution_count": null,
   "metadata": {},
   "outputs": [],
   "source": []
  }
 ],
 "metadata": {
  "kernelspec": {
   "display_name": "Python 3",
   "language": "python",
   "name": "python3"
  },
  "language_info": {
   "codemirror_mode": {
    "name": "ipython",
    "version": 3
   },
   "file_extension": ".py",
   "mimetype": "text/x-python",
   "name": "python",
   "nbconvert_exporter": "python",
   "pygments_lexer": "ipython3",
   "version": "3.6.8"
  }
 },
 "nbformat": 4,
 "nbformat_minor": 2
}
