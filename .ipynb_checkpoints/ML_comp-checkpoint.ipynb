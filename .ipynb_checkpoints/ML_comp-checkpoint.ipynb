{
 "cells": [
  {
   "cell_type": "code",
   "execution_count": null,
   "metadata": {},
   "outputs": [],
   "source": [
    "import numpy as np\n",
    "import pandas as pd\n",
    "import matplotlib.pyplot as plt\n",
    "from sklearn import preprocessing\n",
    "from sklearn.model_selection import train_test_split\n",
    "from sklearn import linear_model\n",
    "import csv\n",
    "from sklearn.ensemble import RandomForestRegressor\n",
    "import seaborn as sns\n",
    "from sklearn import impute \n",
    "from sklearn.svm import LinearSVR"
   ]
  },
  {
   "cell_type": "code",
   "execution_count": 2,
   "metadata": {},
   "outputs": [],
   "source": [
    "def simplify_ages(df):\n",
    "\tdf.Age = df.Age.fillna(-0.5)\n",
    "\tbins = (0,15,25,36,50,120)\n",
    "\tgroup_names = ['0-15', '15-25', '25-36', '36-50', '50-120']\n",
    "\tdf.Age = pd.cut(df.Age, bins, labels=group_names)\n",
    "\treturn df\n",
    "\n",
    "def simplify_city_size(df):\n",
    "\tdf['Size of City'] = df['Size of City'].fillna(-0.5)\n",
    "\tbins = (-1,0,72734,286000,506092,750000,1184501,25000000,50000000)\n",
    "\tgroup_names = ['Unknown', '1_quartile', '1b_quartile', '2_quartile', '2_quartileb', '3_quartile', '3_quartileb', '4_quartile']\n",
    "\tdf['Size of City'] = pd.cut(df['Size of City'], bins, labels=group_names)\n",
    "\treturn df\n",
    "\n",
    "def simplify_yor(df):\n",
    "\tdf['Year of Record'] = df['Year of Record'].fillna(-0.5)\n",
    "\tbins = (-1,1979,1990,2000,2010,2020)\n",
    "\tgroup_names = ['unknown', '1980s', '1990s', '2000s', '2010s']\n",
    "\tdf['Year of Record'] = pd.cut(df['Year of Record'], bins, labels=group_names)\n",
    "\treturn df\n",
    "\n",
    "def simplify_height(df):\n",
    "\tdf['Body Height [cm]'] = df['Body Height [cm]'].fillna(-0.5)\n",
    "\tbins = (-1, 90, 160, 175, 191, 270)\n",
    "\tgroup_names = ['Unknown', '90-160', '160-175', '175-191', '191-270']\n",
    "\tdf['Body Height [cm]'] = pd.cut(df['Body Height [cm]'], bins, labels=group_names)\n",
    "\treturn df\n",
    "\n",
    "def drop_features(df):\n",
    "\tdf = df.drop('Hair Color', axis=1)\n",
    "\tdf = df.drop('Wears Glasses', axis=1)\n",
    "\tdf = df.drop('Instance', axis=1)\n",
    "\t#df = df.drop('University Degree', axis=1)\n",
    "\t#df = df.drop('Gender', axis=1)\n",
    "\t#df = df.drop('Profession', axis=1)\n",
    "\treturn df\n",
    "\n",
    "def encode_features(df):\n",
    "\tfeatures = ['University Degree', 'Age', 'Country', 'Size of City', 'Body Height [cm]', 'Year of Record', 'Gender', 'Profession']\n",
    "\tfor feature in features:\n",
    "\t\tle = preprocessing.LabelEncoder()\n",
    "\t\tdf[feature] = le.fit_transform(df[feature].astype(str))\n",
    "\treturn df\n"
   ]
  },
  {
   "cell_type": "code",
   "execution_count": 3,
   "metadata": {},
   "outputs": [],
   "source": [
    "train_data = pd.read_csv('tcd ml 2019-20 income prediction training (with labels).csv')"
   ]
  },
  {
   "cell_type": "markdown",
   "metadata": {},
   "source": [
    "So far just imported some libraries, defined some functions and read in our csv file."
   ]
  },
  {
   "cell_type": "code",
   "execution_count": 4,
   "metadata": {},
   "outputs": [
    {
     "data": {
      "text/html": [
       "<div>\n",
       "<style scoped>\n",
       "    .dataframe tbody tr th:only-of-type {\n",
       "        vertical-align: middle;\n",
       "    }\n",
       "\n",
       "    .dataframe tbody tr th {\n",
       "        vertical-align: top;\n",
       "    }\n",
       "\n",
       "    .dataframe thead th {\n",
       "        text-align: right;\n",
       "    }\n",
       "</style>\n",
       "<table border=\"1\" class=\"dataframe\">\n",
       "  <thead>\n",
       "    <tr style=\"text-align: right;\">\n",
       "      <th></th>\n",
       "      <th>Instance</th>\n",
       "      <th>Year of Record</th>\n",
       "      <th>Gender</th>\n",
       "      <th>Age</th>\n",
       "      <th>Country</th>\n",
       "      <th>Size of City</th>\n",
       "      <th>Profession</th>\n",
       "      <th>University Degree</th>\n",
       "      <th>Wears Glasses</th>\n",
       "      <th>Hair Color</th>\n",
       "      <th>Body Height [cm]</th>\n",
       "      <th>Income in EUR</th>\n",
       "    </tr>\n",
       "  </thead>\n",
       "  <tbody>\n",
       "    <tr>\n",
       "      <td>0</td>\n",
       "      <td>1</td>\n",
       "      <td>1997.0</td>\n",
       "      <td>0</td>\n",
       "      <td>41.0</td>\n",
       "      <td>Belarus</td>\n",
       "      <td>1239930</td>\n",
       "      <td>steel workers</td>\n",
       "      <td>Bachelor</td>\n",
       "      <td>0</td>\n",
       "      <td>Blond</td>\n",
       "      <td>193</td>\n",
       "      <td>61031.94416</td>\n",
       "    </tr>\n",
       "    <tr>\n",
       "      <td>1</td>\n",
       "      <td>2</td>\n",
       "      <td>1996.0</td>\n",
       "      <td>other</td>\n",
       "      <td>41.0</td>\n",
       "      <td>Singapore</td>\n",
       "      <td>1603504</td>\n",
       "      <td>safe event coordinator</td>\n",
       "      <td>Master</td>\n",
       "      <td>0</td>\n",
       "      <td>Black</td>\n",
       "      <td>186</td>\n",
       "      <td>91001.32764</td>\n",
       "    </tr>\n",
       "    <tr>\n",
       "      <td>2</td>\n",
       "      <td>3</td>\n",
       "      <td>2018.0</td>\n",
       "      <td>other</td>\n",
       "      <td>28.0</td>\n",
       "      <td>Norway</td>\n",
       "      <td>1298017</td>\n",
       "      <td>receivables/payables analyst</td>\n",
       "      <td>PhD</td>\n",
       "      <td>1</td>\n",
       "      <td>Brown</td>\n",
       "      <td>170</td>\n",
       "      <td>157982.17670</td>\n",
       "    </tr>\n",
       "    <tr>\n",
       "      <td>3</td>\n",
       "      <td>4</td>\n",
       "      <td>2006.0</td>\n",
       "      <td>other</td>\n",
       "      <td>33.0</td>\n",
       "      <td>Cuba</td>\n",
       "      <td>751903</td>\n",
       "      <td>fleet assistant</td>\n",
       "      <td>No</td>\n",
       "      <td>1</td>\n",
       "      <td>Black</td>\n",
       "      <td>171</td>\n",
       "      <td>45993.75793</td>\n",
       "    </tr>\n",
       "    <tr>\n",
       "      <td>4</td>\n",
       "      <td>5</td>\n",
       "      <td>2010.0</td>\n",
       "      <td>female</td>\n",
       "      <td>46.0</td>\n",
       "      <td>United Arab Emirates</td>\n",
       "      <td>95389</td>\n",
       "      <td>lead trainer</td>\n",
       "      <td>0</td>\n",
       "      <td>0</td>\n",
       "      <td>Blond</td>\n",
       "      <td>188</td>\n",
       "      <td>38022.16217</td>\n",
       "    </tr>\n",
       "  </tbody>\n",
       "</table>\n",
       "</div>"
      ],
      "text/plain": [
       "   Instance  Year of Record  Gender   Age               Country  Size of City  \\\n",
       "0         1          1997.0       0  41.0               Belarus       1239930   \n",
       "1         2          1996.0   other  41.0             Singapore       1603504   \n",
       "2         3          2018.0   other  28.0                Norway       1298017   \n",
       "3         4          2006.0   other  33.0                  Cuba        751903   \n",
       "4         5          2010.0  female  46.0  United Arab Emirates         95389   \n",
       "\n",
       "                     Profession University Degree  Wears Glasses Hair Color  \\\n",
       "0                 steel workers          Bachelor              0      Blond   \n",
       "1        safe event coordinator            Master              0      Black   \n",
       "2  receivables/payables analyst               PhD              1      Brown   \n",
       "3               fleet assistant                No              1      Black   \n",
       "4                  lead trainer                 0              0      Blond   \n",
       "\n",
       "   Body Height [cm]  Income in EUR  \n",
       "0               193    61031.94416  \n",
       "1               186    91001.32764  \n",
       "2               170   157982.17670  \n",
       "3               171    45993.75793  \n",
       "4               188    38022.16217  "
      ]
     },
     "execution_count": 4,
     "metadata": {},
     "output_type": "execute_result"
    }
   ],
   "source": [
    "train_data.head()"
   ]
  },
  {
   "cell_type": "markdown",
   "metadata": {},
   "source": [
    "Having a look at the data..."
   ]
  },
  {
   "cell_type": "code",
   "execution_count": 5,
   "metadata": {
    "scrolled": false
   },
   "outputs": [],
   "source": [
    "#plt.figure(figsize=(12,10))\n",
    "#sns.heatmap(train_data.corr(), annot=True)"
   ]
  },
  {
   "cell_type": "code",
   "execution_count": 6,
   "metadata": {},
   "outputs": [],
   "source": [
    "train_data[(train_data['Gender'] == '0')] = None\n",
    "train_data[(train_data['University Degree'] == '0')] = None\n",
    "train_data = train_data.fillna(train_data.median())\n",
    "train_data = train_data.fillna(\"unknown\")\n"
   ]
  },
  {
   "cell_type": "markdown",
   "metadata": {},
   "source": [
    "Changing all 0's to NAs and filling NAs with median or 'unknown'"
   ]
  },
  {
   "cell_type": "code",
   "execution_count": 7,
   "metadata": {},
   "outputs": [
    {
     "data": {
      "text/html": [
       "<div>\n",
       "<style scoped>\n",
       "    .dataframe tbody tr th:only-of-type {\n",
       "        vertical-align: middle;\n",
       "    }\n",
       "\n",
       "    .dataframe tbody tr th {\n",
       "        vertical-align: top;\n",
       "    }\n",
       "\n",
       "    .dataframe thead th {\n",
       "        text-align: right;\n",
       "    }\n",
       "</style>\n",
       "<table border=\"1\" class=\"dataframe\">\n",
       "  <thead>\n",
       "    <tr style=\"text-align: right;\">\n",
       "      <th></th>\n",
       "      <th>Year of Record</th>\n",
       "      <th>Gender</th>\n",
       "      <th>Age</th>\n",
       "      <th>Country</th>\n",
       "      <th>Size of City</th>\n",
       "      <th>Profession</th>\n",
       "      <th>University Degree</th>\n",
       "      <th>Body Height [cm]</th>\n",
       "      <th>Income in EUR</th>\n",
       "    </tr>\n",
       "  </thead>\n",
       "  <tbody>\n",
       "    <tr>\n",
       "      <td>0</td>\n",
       "      <td>1990s</td>\n",
       "      <td>unknown</td>\n",
       "      <td>25-36</td>\n",
       "      <td>unknown</td>\n",
       "      <td>2_quartileb</td>\n",
       "      <td>unknown</td>\n",
       "      <td>unknown</td>\n",
       "      <td>160-175</td>\n",
       "      <td>57224.682505</td>\n",
       "    </tr>\n",
       "    <tr>\n",
       "      <td>1</td>\n",
       "      <td>1990s</td>\n",
       "      <td>other</td>\n",
       "      <td>36-50</td>\n",
       "      <td>Singapore</td>\n",
       "      <td>3_quartileb</td>\n",
       "      <td>safe event coordinator</td>\n",
       "      <td>Master</td>\n",
       "      <td>175-191</td>\n",
       "      <td>91001.327640</td>\n",
       "    </tr>\n",
       "    <tr>\n",
       "      <td>2</td>\n",
       "      <td>2010s</td>\n",
       "      <td>other</td>\n",
       "      <td>25-36</td>\n",
       "      <td>Norway</td>\n",
       "      <td>3_quartileb</td>\n",
       "      <td>receivables/payables analyst</td>\n",
       "      <td>PhD</td>\n",
       "      <td>160-175</td>\n",
       "      <td>157982.176700</td>\n",
       "    </tr>\n",
       "    <tr>\n",
       "      <td>3</td>\n",
       "      <td>2000s</td>\n",
       "      <td>other</td>\n",
       "      <td>25-36</td>\n",
       "      <td>Cuba</td>\n",
       "      <td>3_quartile</td>\n",
       "      <td>fleet assistant</td>\n",
       "      <td>No</td>\n",
       "      <td>160-175</td>\n",
       "      <td>45993.757930</td>\n",
       "    </tr>\n",
       "    <tr>\n",
       "      <td>4</td>\n",
       "      <td>1990s</td>\n",
       "      <td>unknown</td>\n",
       "      <td>25-36</td>\n",
       "      <td>unknown</td>\n",
       "      <td>2_quartileb</td>\n",
       "      <td>unknown</td>\n",
       "      <td>unknown</td>\n",
       "      <td>160-175</td>\n",
       "      <td>57224.682505</td>\n",
       "    </tr>\n",
       "  </tbody>\n",
       "</table>\n",
       "</div>"
      ],
      "text/plain": [
       "  Year of Record   Gender    Age    Country Size of City  \\\n",
       "0          1990s  unknown  25-36    unknown  2_quartileb   \n",
       "1          1990s    other  36-50  Singapore  3_quartileb   \n",
       "2          2010s    other  25-36     Norway  3_quartileb   \n",
       "3          2000s    other  25-36       Cuba   3_quartile   \n",
       "4          1990s  unknown  25-36    unknown  2_quartileb   \n",
       "\n",
       "                     Profession University Degree Body Height [cm]  \\\n",
       "0                       unknown           unknown          160-175   \n",
       "1        safe event coordinator            Master          175-191   \n",
       "2  receivables/payables analyst               PhD          160-175   \n",
       "3               fleet assistant                No          160-175   \n",
       "4                       unknown           unknown          160-175   \n",
       "\n",
       "   Income in EUR  \n",
       "0   57224.682505  \n",
       "1   91001.327640  \n",
       "2  157982.176700  \n",
       "3   45993.757930  \n",
       "4   57224.682505  "
      ]
     },
     "execution_count": 7,
     "metadata": {},
     "output_type": "execute_result"
    }
   ],
   "source": [
    "train_data = simplify_ages(train_data)\n",
    "train_data = simplify_city_size(train_data)\n",
    "train_data = simplify_yor(train_data)\n",
    "train_data = simplify_height(train_data)\n",
    "train_data = drop_features(train_data)\n",
    "train_data.head()"
   ]
  },
  {
   "cell_type": "markdown",
   "metadata": {},
   "source": [
    "Simplified some columns and dropped unnecessary features\n"
   ]
  },
  {
   "cell_type": "code",
   "execution_count": 8,
   "metadata": {
    "scrolled": false
   },
   "outputs": [],
   "source": [
    "train_data = encode_features(train_data)\n"
   ]
  },
  {
   "cell_type": "code",
   "execution_count": 9,
   "metadata": {},
   "outputs": [],
   "source": [
    "X = train_data[train_data.columns[:-1]]\n",
    "Y = train_data[train_data.columns[-1]]\n",
    "X_train, X_test, y_train, y_test = train_test_split(X, Y, test_size=0.3, random_state=1) \n"
   ]
  },
  {
   "cell_type": "markdown",
   "metadata": {},
   "source": [
    "Extracting features and income and splitting them into training/testing data"
   ]
  },
  {
   "cell_type": "code",
   "execution_count": 10,
   "metadata": {},
   "outputs": [
    {
     "name": "stdout",
     "output_type": "stream",
     "text": [
      "\n",
      "\n",
      "0.07624150465933854\n"
     ]
    }
   ],
   "source": [
    "# Linear Regression\n",
    "regr = linear_model.LinearRegression()\n",
    "regr.fit(X_train, y_train)\n",
    "y_pred = regr.predict(X_test)\n",
    "print(\"\\n\")\n",
    "print(regr.score(X_test, y_test))"
   ]
  },
  {
   "cell_type": "code",
   "execution_count": 11,
   "metadata": {},
   "outputs": [
    {
     "name": "stdout",
     "output_type": "stream",
     "text": [
      "0.07624151860263129\n"
     ]
    }
   ],
   "source": [
    "# Lasso\n",
    "regr = linear_model.Lasso()\n",
    "regr.fit(X_train, y_train)\n",
    "y_pred = regr.predict(X_test)\n",
    "print(regr.score(X_test, y_test))"
   ]
  },
  {
   "cell_type": "code",
   "execution_count": 12,
   "metadata": {},
   "outputs": [
    {
     "name": "stdout",
     "output_type": "stream",
     "text": [
      "0.23882179368484993\n"
     ]
    }
   ],
   "source": [
    "# Random Forest Regression\n",
    "rf = RandomForestRegressor(n_estimators = 10, random_state = 42, max_depth=7)\n",
    "rf.fit(X_train, y_train)\n",
    "\n",
    "y_pred = rf.predict(X_test)\n",
    "print(rf.score(X_test, y_test))"
   ]
  },
  {
   "cell_type": "code",
   "execution_count": 13,
   "metadata": {},
   "outputs": [
    {
     "name": "stdout",
     "output_type": "stream",
     "text": [
      "-2.1961923740752835e+17\n"
     ]
    }
   ],
   "source": [
    "# SGD Regressor\n",
    "regr = linear_model.SGDRegressor()\n",
    "regr.fit(X_train, y_train)\n",
    "y_pred = regr.predict(X_test)\n",
    "print(regr.score(X_test, y_test))"
   ]
  },
  {
   "cell_type": "code",
   "execution_count": 14,
   "metadata": {
    "scrolled": true
   },
   "outputs": [
    {
     "name": "stdout",
     "output_type": "stream",
     "text": [
      "82266      39776.03646\n",
      "111182    262639.93520\n",
      "12959      61691.45239\n",
      "58024     134414.74310\n",
      "65984      27224.69960\n",
      "Name: Income in EUR, dtype: float64\n",
      "\n",
      "\n",
      "76444805120539.39\n",
      "-181179398912.44656\n",
      "69811234944467.31\n",
      "61381686646974.61\n",
      "62410045707793.94\n"
     ]
    }
   ],
   "source": [
    "print(y_test.head())\n",
    "print(\"\\n\")\n",
    "for i in range(5):\n",
    "\tprint(y_pred[i])"
   ]
  },
  {
   "cell_type": "markdown",
   "metadata": {},
   "source": [
    "Some different algorithms and a comparison of the first 5 from test data vs predicted data"
   ]
  },
  {
   "cell_type": "code",
   "execution_count": null,
   "metadata": {},
   "outputs": [],
   "source": [
    "# SVR\n",
    "clf = LinearSVR(gamma='scale', C=1.0, epsilon=0.2)\n",
    "clf.fit(X_train, y_train)\n",
    "print(clf.score(X_test, y_test))"
   ]
  },
  {
   "cell_type": "code",
   "execution_count": null,
   "metadata": {},
   "outputs": [],
   "source": []
  }
 ],
 "metadata": {
  "kernelspec": {
   "display_name": "Python 3",
   "language": "python",
   "name": "python3"
  },
  "language_info": {
   "codemirror_mode": {
    "name": "ipython",
    "version": 3
   },
   "file_extension": ".py",
   "mimetype": "text/x-python",
   "name": "python",
   "nbconvert_exporter": "python",
   "pygments_lexer": "ipython3",
   "version": "3.6.8"
  }
 },
 "nbformat": 4,
 "nbformat_minor": 2
}
